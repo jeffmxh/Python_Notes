{
 "cells": [
  {
   "cell_type": "code",
   "execution_count": 1,
   "metadata": {},
   "outputs": [
    {
     "name": "stdout",
     "output_type": "stream",
     "text": [
      "v:  [1 2 3 4]\n",
      "m:  [[1 2]\n",
      " [3 4]]\n",
      "v.shape:  (4,)\n",
      "m.shape:  (2, 2)\n",
      "v.size:  4\n",
      "m.size:  4\n"
     ]
    }
   ],
   "source": [
    "import numpy as np\n",
    "\n",
    "# 一维向量\n",
    "v = np.array([1, 2, 3, 4])\n",
    "print('v: ', v)\n",
    "\n",
    "# 二维向量\n",
    "m = np.array([[1, 2], [3, 4]])\n",
    "print('m: ', m)\n",
    "\n",
    "# 显示维度\n",
    "print('v.shape: ', v.shape)\n",
    "print('m.shape: ', m.shape)\n",
    "\n",
    "# 显示大小\n",
    "print('v.size: ', v.size)\n",
    "print('m.size: ', m.size)"
   ]
  },
  {
   "cell_type": "code",
   "execution_count": 2,
   "metadata": {},
   "outputs": [
    {
     "name": "stdout",
     "output_type": "stream",
     "text": [
      "x:\n",
      " [1 2 3 4 5 6 7 8 9]\n",
      "y:\n",
      " [-10.          -9.16666667  -8.33333333  -7.5         -6.66666667\n",
      "  -5.83333333  -5.          -4.16666667  -3.33333333  -2.5\n",
      "  -1.66666667  -0.83333333   0.           0.83333333   1.66666667\n",
      "   2.5          3.33333333   4.16666667   5.           5.83333333\n",
      "   6.66666667   7.5          8.33333333   9.16666667  10.        ]\n",
      "z:\n",
      " [1.00000000e+00 3.03773178e+00 9.22781435e+00 2.80316249e+01\n",
      " 8.51525577e+01 2.58670631e+02 7.85771994e+02 2.38696456e+03\n",
      " 7.25095809e+03 2.20264658e+04]\n"
     ]
    }
   ],
   "source": [
    "# 数组生成函数\n",
    "\n",
    "# 固定步长\n",
    "x = np.arange(1, 10, 1) # arguments: start, stop, step  \n",
    "print('x:\\n', x)\n",
    "\n",
    "# 固定长度\n",
    "y = np.linspace(-10, 10, 25)\n",
    "print('y:\\n', y)\n",
    "\n",
    "z = np.logspace(0, 10, 10, base=np.e)\n",
    "print('z:\\n', z)"
   ]
  },
  {
   "cell_type": "code",
   "execution_count": 3,
   "metadata": {},
   "outputs": [
    {
     "data": {
      "text/plain": [
       "array([[-0.69626771, -0.60361372, -0.74159862,  0.47554711,  0.07588812],\n",
       "       [ 0.43927635,  1.17397258,  0.04905819, -0.09803025, -1.75134336],\n",
       "       [-0.10994547,  0.24641394, -1.08134965,  0.71779384, -1.75830138],\n",
       "       [ 0.87583499,  0.22233797, -0.4737703 ,  1.27203812, -1.1290211 ],\n",
       "       [ 0.47674664,  0.2060383 ,  0.00220724, -0.24101642, -1.0110558 ]])"
      ]
     },
     "execution_count": 3,
     "metadata": {},
     "output_type": "execute_result"
    }
   ],
   "source": [
    "# 生成随机矩阵\n",
    "\n",
    "# uniform random numbers in [0,1]\n",
    "np.random.rand(5, 5)\n",
    "\n",
    "# standard normal distributed random numbers\n",
    "np.random.randn(5, 5)"
   ]
  },
  {
   "cell_type": "code",
   "execution_count": 4,
   "metadata": {},
   "outputs": [
    {
     "data": {
      "text/plain": [
       "array([[1., 1., 1.],\n",
       "       [1., 1., 1.],\n",
       "       [1., 1., 1.]])"
      ]
     },
     "execution_count": 4,
     "metadata": {},
     "output_type": "execute_result"
    }
   ],
   "source": [
    "# 对角阵\n",
    "np.diag([1, 2, 3])\n",
    "\n",
    "# 次对角阵\n",
    "np.diag([1, 2, 3, 4], k = 1)\n",
    "\n",
    "# 零矩阵\n",
    "np.zeros([3,3])\n",
    "\n",
    "# 一矩阵\n",
    "np.ones([3,3])"
   ]
  },
  {
   "cell_type": "code",
   "execution_count": 5,
   "metadata": {},
   "outputs": [
    {
     "name": "stdout",
     "output_type": "stream",
     "text": [
      "[[1 2]\n",
      " [3 4]]\n",
      "1\n",
      "[2 4]\n"
     ]
    }
   ],
   "source": [
    "# 索引\n",
    "\n",
    "print(m)\n",
    "print(m[0, 0])\n",
    "print(m[:,1])"
   ]
  },
  {
   "cell_type": "code",
   "execution_count": 6,
   "metadata": {},
   "outputs": [
    {
     "data": {
      "text/plain": [
       "array([0, 2, 4])"
      ]
     },
     "execution_count": 6,
     "metadata": {},
     "output_type": "execute_result"
    }
   ],
   "source": [
    "# 切片, 同list\n",
    "\n",
    "a = np.arange(5)\n",
    "a[::2] # parameters: start, end, step"
   ]
  },
  {
   "cell_type": "code",
   "execution_count": 7,
   "metadata": {},
   "outputs": [
    {
     "name": "stdout",
     "output_type": "stream",
     "text": [
      "[[ 0  1  2  3  4]\n",
      " [10 11 12 13 14]\n",
      " [20 21 22 23 24]\n",
      " [30 31 32 33 34]\n",
      " [40 41 42 43 44]]\n",
      "[[11 12]\n",
      " [21 22]]\n"
     ]
    }
   ],
   "source": [
    "A = np.array([[n+m*10 for n in range(5)] for m in range(5)])\n",
    "print(A)\n",
    "print(A[1:3, 1:3])"
   ]
  },
  {
   "cell_type": "code",
   "execution_count": 8,
   "metadata": {},
   "outputs": [
    {
     "data": {
      "text/plain": [
       "(array([7, 8, 9]),)"
      ]
     },
     "execution_count": 8,
     "metadata": {},
     "output_type": "execute_result"
    }
   ],
   "source": [
    "x = np.arange(0, 10, 0.5)\n",
    "x[x>3]\n",
    "x[(x>3) & (x<5)]\n",
    "np.where((x>3) & (x<5))"
   ]
  },
  {
   "cell_type": "code",
   "execution_count": 9,
   "metadata": {},
   "outputs": [
    {
     "data": {
      "text/plain": [
       "array([[1, 2, 1, 2, 1, 2],\n",
       "       [3, 4, 3, 4, 3, 4]])"
      ]
     },
     "execution_count": 9,
     "metadata": {},
     "output_type": "execute_result"
    }
   ],
   "source": [
    "a = np.repeat('abc',3)\n",
    "\n",
    "a = np.array([[1, 2], [3, 4]])\n",
    "np.repeat(a, 3)\n",
    "np.tile(a, 3)"
   ]
  },
  {
   "cell_type": "code",
   "execution_count": 10,
   "metadata": {},
   "outputs": [
    {
     "data": {
      "text/plain": [
       "array([0, 1, 0, 1, 1])"
      ]
     },
     "execution_count": 10,
     "metadata": {},
     "output_type": "execute_result"
    }
   ],
   "source": [
    "# 使用矢量化函数\n",
    "\n",
    "def Theta(x):\n",
    "    if x>=0:\n",
    "        return 1\n",
    "    else:\n",
    "        return 0\n",
    "\n",
    "# 矢量化\n",
    "Theta_vec = np.vectorize(Theta)\n",
    "\n",
    "Theta_vec(np.array([-1, 0, -1, 1, 3]))"
   ]
  },
  {
   "cell_type": "code",
   "execution_count": 11,
   "metadata": {},
   "outputs": [
    {
     "name": "stdout",
     "output_type": "stream",
     "text": [
      "At least one element in M is bigger than 5\n",
      "Not all elements in M is larger than 5\n"
     ]
    }
   ],
   "source": [
    "# any 和 all 的用法\n",
    "\n",
    "M = np.array([[1, 4], [9, 16]])\n",
    "\n",
    "if (M > 5).any():\n",
    "    print('At least one element in M is bigger than 5')\n",
    "else:\n",
    "    print('no element in M is larger than 5')\n",
    "    \n",
    "if (M > 5).all():\n",
    "    print('All elements in M are bigger than 5')\n",
    "else:\n",
    "    print('Not all elements in M is larger than 5')    "
   ]
  }
 ],
 "metadata": {
  "anaconda-cloud": {},
  "kernelspec": {
   "display_name": "Python 3",
   "language": "python",
   "name": "python3"
  },
  "language_info": {
   "codemirror_mode": {
    "name": "ipython",
    "version": 3
   },
   "file_extension": ".py",
   "mimetype": "text/x-python",
   "name": "python",
   "nbconvert_exporter": "python",
   "pygments_lexer": "ipython3",
   "version": "3.7.0"
  }
 },
 "nbformat": 4,
 "nbformat_minor": 1
}
